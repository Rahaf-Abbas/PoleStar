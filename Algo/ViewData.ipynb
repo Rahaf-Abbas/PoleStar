{
 "cells": [
  {
   "cell_type": "code",
   "execution_count": 63,
   "id": "78940aa2",
   "metadata": {
    "scrolled": true
   },
   "outputs": [],
   "source": [
    "import pandas as pd\n",
    "\n",
    "\n",
    "ratings = pd.read_csv('testCase.csv')\n",
    "\n",
    "df = pd.DataFrame(ratings)\n",
    "  \n"
   ]
  },
  {
   "cell_type": "code",
   "execution_count": 64,
   "id": "0c5f101b",
   "metadata": {},
   "outputs": [
    {
     "data": {
      "text/html": [
       "<div>\n",
       "<style scoped>\n",
       "    .dataframe tbody tr th:only-of-type {\n",
       "        vertical-align: middle;\n",
       "    }\n",
       "\n",
       "    .dataframe tbody tr th {\n",
       "        vertical-align: top;\n",
       "    }\n",
       "\n",
       "    .dataframe thead th {\n",
       "        text-align: right;\n",
       "    }\n",
       "</style>\n",
       "<table border=\"1\" class=\"dataframe\">\n",
       "  <thead>\n",
       "    <tr style=\"text-align: right;\">\n",
       "      <th></th>\n",
       "      <th>book_name</th>\n",
       "      <th>ratings</th>\n",
       "      <th>user_id</th>\n",
       "    </tr>\n",
       "  </thead>\n",
       "  <tbody>\n",
       "    <tr>\n",
       "      <th>0</th>\n",
       "      <td>Book 1</td>\n",
       "      <td>4</td>\n",
       "      <td>1</td>\n",
       "    </tr>\n",
       "    <tr>\n",
       "      <th>1</th>\n",
       "      <td>Book 1</td>\n",
       "      <td>4</td>\n",
       "      <td>2</td>\n",
       "    </tr>\n",
       "    <tr>\n",
       "      <th>2</th>\n",
       "      <td>Book 1</td>\n",
       "      <td>4</td>\n",
       "      <td>3</td>\n",
       "    </tr>\n",
       "    <tr>\n",
       "      <th>3</th>\n",
       "      <td>Book 1</td>\n",
       "      <td>4</td>\n",
       "      <td>4</td>\n",
       "    </tr>\n",
       "    <tr>\n",
       "      <th>4</th>\n",
       "      <td>Book 1</td>\n",
       "      <td>4</td>\n",
       "      <td>5</td>\n",
       "    </tr>\n",
       "  </tbody>\n",
       "</table>\n",
       "</div>"
      ],
      "text/plain": [
       "  book_name  ratings  user_id\n",
       "0    Book 1        4        1\n",
       "1    Book 1        4        2\n",
       "2    Book 1        4        3\n",
       "3    Book 1        4        4\n",
       "4    Book 1        4        5"
      ]
     },
     "execution_count": 64,
     "metadata": {},
     "output_type": "execute_result"
    }
   ],
   "source": [
    "ratings.head()"
   ]
  },
  {
   "cell_type": "code",
   "execution_count": 65,
   "id": "fa29332f",
   "metadata": {},
   "outputs": [
    {
     "data": {
      "text/html": [
       "<div>\n",
       "<style scoped>\n",
       "    .dataframe tbody tr th:only-of-type {\n",
       "        vertical-align: middle;\n",
       "    }\n",
       "\n",
       "    .dataframe tbody tr th {\n",
       "        vertical-align: top;\n",
       "    }\n",
       "\n",
       "    .dataframe thead th {\n",
       "        text-align: right;\n",
       "    }\n",
       "</style>\n",
       "<table border=\"1\" class=\"dataframe\">\n",
       "  <thead>\n",
       "    <tr style=\"text-align: right;\">\n",
       "      <th>book_name</th>\n",
       "      <th>Book 1</th>\n",
       "      <th>Book 2</th>\n",
       "      <th>Book 3</th>\n",
       "      <th>Book 4</th>\n",
       "    </tr>\n",
       "    <tr>\n",
       "      <th>user_id</th>\n",
       "      <th></th>\n",
       "      <th></th>\n",
       "      <th></th>\n",
       "      <th></th>\n",
       "    </tr>\n",
       "  </thead>\n",
       "  <tbody>\n",
       "    <tr>\n",
       "      <th>158</th>\n",
       "      <td>5.0</td>\n",
       "      <td>5.0</td>\n",
       "      <td>NaN</td>\n",
       "      <td>NaN</td>\n",
       "    </tr>\n",
       "    <tr>\n",
       "      <th>159</th>\n",
       "      <td>5.0</td>\n",
       "      <td>5.0</td>\n",
       "      <td>NaN</td>\n",
       "      <td>NaN</td>\n",
       "    </tr>\n",
       "    <tr>\n",
       "      <th>160</th>\n",
       "      <td>5.0</td>\n",
       "      <td>5.0</td>\n",
       "      <td>NaN</td>\n",
       "      <td>NaN</td>\n",
       "    </tr>\n",
       "    <tr>\n",
       "      <th>161</th>\n",
       "      <td>5.0</td>\n",
       "      <td>5.0</td>\n",
       "      <td>NaN</td>\n",
       "      <td>NaN</td>\n",
       "    </tr>\n",
       "    <tr>\n",
       "      <th>162</th>\n",
       "      <td>5.0</td>\n",
       "      <td>5.0</td>\n",
       "      <td>NaN</td>\n",
       "      <td>NaN</td>\n",
       "    </tr>\n",
       "    <tr>\n",
       "      <th>163</th>\n",
       "      <td>5.0</td>\n",
       "      <td>5.0</td>\n",
       "      <td>NaN</td>\n",
       "      <td>NaN</td>\n",
       "    </tr>\n",
       "    <tr>\n",
       "      <th>164</th>\n",
       "      <td>5.0</td>\n",
       "      <td>5.0</td>\n",
       "      <td>NaN</td>\n",
       "      <td>NaN</td>\n",
       "    </tr>\n",
       "    <tr>\n",
       "      <th>165</th>\n",
       "      <td>5.0</td>\n",
       "      <td>5.0</td>\n",
       "      <td>NaN</td>\n",
       "      <td>NaN</td>\n",
       "    </tr>\n",
       "    <tr>\n",
       "      <th>166</th>\n",
       "      <td>5.0</td>\n",
       "      <td>5.0</td>\n",
       "      <td>NaN</td>\n",
       "      <td>NaN</td>\n",
       "    </tr>\n",
       "    <tr>\n",
       "      <th>167</th>\n",
       "      <td>5.0</td>\n",
       "      <td>5.0</td>\n",
       "      <td>NaN</td>\n",
       "      <td>NaN</td>\n",
       "    </tr>\n",
       "  </tbody>\n",
       "</table>\n",
       "</div>"
      ],
      "text/plain": [
       "book_name  Book 1  Book 2  Book 3  Book 4\n",
       "user_id                                  \n",
       "158           5.0     5.0     NaN     NaN\n",
       "159           5.0     5.0     NaN     NaN\n",
       "160           5.0     5.0     NaN     NaN\n",
       "161           5.0     5.0     NaN     NaN\n",
       "162           5.0     5.0     NaN     NaN\n",
       "163           5.0     5.0     NaN     NaN\n",
       "164           5.0     5.0     NaN     NaN\n",
       "165           5.0     5.0     NaN     NaN\n",
       "166           5.0     5.0     NaN     NaN\n",
       "167           5.0     5.0     NaN     NaN"
      ]
     },
     "execution_count": 65,
     "metadata": {},
     "output_type": "execute_result"
    }
   ],
   "source": [
    "bookRatings = ratings.pivot_table(index=['user_id'],columns=['book_name'],values='ratings')\n",
    "bookRatings[156:166]\n",
    "\n",
    "#pivot_table function on a DataFrame will construct a user / book rating matrix"
   ]
  },
  {
   "cell_type": "code",
   "execution_count": 66,
   "id": "ce06c246",
   "metadata": {},
   "outputs": [
    {
     "data": {
      "text/plain": [
       "user_id\n",
       "2     4.0\n",
       "3     4.0\n",
       "4     4.0\n",
       "5     4.0\n",
       "6     4.0\n",
       "7     4.0\n",
       "8     4.0\n",
       "9     4.0\n",
       "10    4.0\n",
       "11    4.0\n",
       "12    4.0\n",
       "13    4.0\n",
       "14    4.0\n",
       "15    4.0\n",
       "16    4.0\n",
       "17    4.0\n",
       "18    4.0\n",
       "19    4.0\n",
       "20    4.0\n",
       "Name: Book 1, dtype: float64"
      ]
     },
     "execution_count": 66,
     "metadata": {},
     "output_type": "execute_result"
    }
   ],
   "source": [
    "#users who rated book & entering input (book to search for similarity):\n",
    "input = \"Book 1\"\n",
    "x = bookRatings[input]\n",
    "x[1:20]"
   ]
  },
  {
   "cell_type": "code",
   "execution_count": 67,
   "id": "47c9d9d7",
   "metadata": {},
   "outputs": [
    {
     "data": {
      "text/html": [
       "<div>\n",
       "<style scoped>\n",
       "    .dataframe tbody tr th:only-of-type {\n",
       "        vertical-align: middle;\n",
       "    }\n",
       "\n",
       "    .dataframe tbody tr th {\n",
       "        vertical-align: top;\n",
       "    }\n",
       "\n",
       "    .dataframe thead th {\n",
       "        text-align: right;\n",
       "    }\n",
       "</style>\n",
       "<table border=\"1\" class=\"dataframe\">\n",
       "  <thead>\n",
       "    <tr style=\"text-align: right;\">\n",
       "      <th></th>\n",
       "      <th>0</th>\n",
       "    </tr>\n",
       "    <tr>\n",
       "      <th>book_name</th>\n",
       "      <th></th>\n",
       "    </tr>\n",
       "  </thead>\n",
       "  <tbody>\n",
       "    <tr>\n",
       "      <th>Book 1</th>\n",
       "      <td>1.0</td>\n",
       "    </tr>\n",
       "    <tr>\n",
       "      <th>Book 2</th>\n",
       "      <td>1.0</td>\n",
       "    </tr>\n",
       "  </tbody>\n",
       "</table>\n",
       "</div>"
      ],
      "text/plain": [
       "             0\n",
       "book_name     \n",
       "Book 1     1.0\n",
       "Book 2     1.0"
      ]
     },
     "execution_count": 67,
     "metadata": {},
     "output_type": "execute_result"
    }
   ],
   "source": [
    "# corrwith function makes it really easy to compute the pairwise correlation\n",
    "# Showing the relation between the books and other books based on rating\n",
    " \n",
    "similarBooks = bookRatings.corrwith(x)\n",
    "similarBooks = similarBooks.dropna()\n",
    "df = pd.DataFrame(similarBooks)\n",
    "df.head()"
   ]
  },
  {
   "cell_type": "code",
   "execution_count": 68,
   "id": "d8618b1d",
   "metadata": {},
   "outputs": [
    {
     "data": {
      "text/plain": [
       "book_name\n",
       "Book 1    1.0\n",
       "Book 2    1.0\n",
       "dtype: float64"
      ]
     },
     "execution_count": 68,
     "metadata": {},
     "output_type": "execute_result"
    }
   ],
   "source": [
    "# Getting the Similar Books according to the rating and users\n",
    "\n",
    "similarBooks.sort_values(ascending=False)"
   ]
  },
  {
   "cell_type": "code",
   "execution_count": 69,
   "id": "b9e72aa3",
   "metadata": {},
   "outputs": [],
   "source": [
    "# get rid of the unpopluar books who may mess up our results (missing more rating).\n",
    "# counts up how many ratings exist for each book and the average rate.\n",
    "\n",
    "\n",
    "import numpy as np\n",
    "BookStats = ratings.groupby('book_name').agg({'ratings': [np.size, np.mean]})\n"
   ]
  },
  {
   "cell_type": "code",
   "execution_count": 70,
   "id": "67bd574b",
   "metadata": {},
   "outputs": [
    {
     "name": "stdout",
     "output_type": "stream",
     "text": [
      "book_name\n",
      "Book 1    True\n",
      "Book 2    True\n",
      "Book 3    True\n",
      "Book 4    True\n",
      "Name: size, dtype: bool\n"
     ]
    }
   ],
   "source": [
    "\n",
    "popularBooks = BookStats['ratings']['size'] >= 20\n",
    "BookStats[popularBooks].sort_values([('ratings', 'mean')], ascending=False)[:15]\n",
    "\n",
    "print(popularBooks)\n"
   ]
  },
  {
   "cell_type": "code",
   "execution_count": 71,
   "id": "2e80ff71",
   "metadata": {},
   "outputs": [
    {
     "name": "stderr",
     "output_type": "stream",
     "text": [
      "C:\\Users\\lenovo\\AppData\\Local\\Temp\\ipykernel_44980\\4088160253.py:2: FutureWarning: merging between different levels is deprecated and will be removed in a future version. (2 levels on the left, 1 on the right)\n",
      "  df = BookStats[popularBooks].join(pd.DataFrame(similarBooks, columns=['similarity']))\n"
     ]
    }
   ],
   "source": [
    "# Applying the new List of books (has 40 rating at least) to results\n",
    "df = BookStats[popularBooks].join(pd.DataFrame(similarBooks, columns=['similarity']))"
   ]
  },
  {
   "cell_type": "code",
   "execution_count": 72,
   "id": "60ee98e5",
   "metadata": {},
   "outputs": [
    {
     "data": {
      "text/html": [
       "<div>\n",
       "<style scoped>\n",
       "    .dataframe tbody tr th:only-of-type {\n",
       "        vertical-align: middle;\n",
       "    }\n",
       "\n",
       "    .dataframe tbody tr th {\n",
       "        vertical-align: top;\n",
       "    }\n",
       "\n",
       "    .dataframe thead th {\n",
       "        text-align: right;\n",
       "    }\n",
       "</style>\n",
       "<table border=\"1\" class=\"dataframe\">\n",
       "  <thead>\n",
       "    <tr style=\"text-align: right;\">\n",
       "      <th></th>\n",
       "      <th>(ratings, size)</th>\n",
       "      <th>(ratings, mean)</th>\n",
       "      <th>similarity</th>\n",
       "    </tr>\n",
       "    <tr>\n",
       "      <th>book_name</th>\n",
       "      <th></th>\n",
       "      <th></th>\n",
       "      <th></th>\n",
       "    </tr>\n",
       "  </thead>\n",
       "  <tbody>\n",
       "    <tr>\n",
       "      <th>Book 1</th>\n",
       "      <td>198</td>\n",
       "      <td>4.5</td>\n",
       "      <td>1.0</td>\n",
       "    </tr>\n",
       "    <tr>\n",
       "      <th>Book 2</th>\n",
       "      <td>198</td>\n",
       "      <td>4.5</td>\n",
       "      <td>1.0</td>\n",
       "    </tr>\n",
       "    <tr>\n",
       "      <th>Book 3</th>\n",
       "      <td>49</td>\n",
       "      <td>2.0</td>\n",
       "      <td>NaN</td>\n",
       "    </tr>\n",
       "    <tr>\n",
       "      <th>Book 4</th>\n",
       "      <td>29</td>\n",
       "      <td>2.0</td>\n",
       "      <td>NaN</td>\n",
       "    </tr>\n",
       "  </tbody>\n",
       "</table>\n",
       "</div>"
      ],
      "text/plain": [
       "           (ratings, size)  (ratings, mean)  similarity\n",
       "book_name                                              \n",
       "Book 1                 198              4.5         1.0\n",
       "Book 2                 198              4.5         1.0\n",
       "Book 3                  49              2.0         NaN\n",
       "Book 4                  29              2.0         NaN"
      ]
     },
     "execution_count": 72,
     "metadata": {},
     "output_type": "execute_result"
    }
   ],
   "source": [
    "df.head()"
   ]
  },
  {
   "cell_type": "code",
   "execution_count": 73,
   "id": "0245238d",
   "metadata": {},
   "outputs": [],
   "source": [
    "# taking Top 3 books based on similarity for our specfied book (input best match) \n",
    "results = df.sort_values(['similarity'], ascending=False)[1:4]"
   ]
  },
  {
   "cell_type": "code",
   "execution_count": 74,
   "id": "3a1f7f01",
   "metadata": {},
   "outputs": [
    {
     "name": "stdout",
     "output_type": "stream",
     "text": [
      "Recommended books:\n",
      "First Book: Book 2\n",
      "Second Book: Book 3\n",
      "Third Book: Book 4\n"
     ]
    }
   ],
   "source": [
    "#printing the recommended books to the user\n",
    "firstBook = results[:1].index[0]\n",
    "SecondBook = results[1:2].index[0]\n",
    "ThirdBook = results[2:3].index[0]\n",
    "\n",
    "print(\"Recommended books:\")\n",
    "print(\"First Book:\" , firstBook)\n",
    "print(\"Second Book:\" , SecondBook)\n",
    "print(\"Third Book:\" , ThirdBook)\n"
   ]
  }
 ],
 "metadata": {
  "kernelspec": {
   "display_name": "Python 3 (ipykernel)",
   "language": "python",
   "name": "python3"
  },
  "language_info": {
   "codemirror_mode": {
    "name": "ipython",
    "version": 3
   },
   "file_extension": ".py",
   "mimetype": "text/x-python",
   "name": "python",
   "nbconvert_exporter": "python",
   "pygments_lexer": "ipython3",
   "version": "3.9.12"
  }
 },
 "nbformat": 4,
 "nbformat_minor": 5
}
